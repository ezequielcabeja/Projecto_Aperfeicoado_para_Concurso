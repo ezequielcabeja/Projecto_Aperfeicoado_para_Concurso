{
  "nbformat": 4,
  "nbformat_minor": 0,
  "metadata": {
    "colab": {
      "provenance": [],
      "authorship_tag": "ABX9TyPfCPtUrOKQ3xp6Ia240RtP",
      "include_colab_link": true
    },
    "kernelspec": {
      "name": "python3",
      "display_name": "Python 3"
    },
    "language_info": {
      "name": "python"
    }
  },
  "cells": [
    {
      "cell_type": "markdown",
      "metadata": {
        "id": "view-in-github",
        "colab_type": "text"
      },
      "source": [
        "<a href=\"https://colab.research.google.com/github/ezequielcabeja/Projecto_Aperfeicoado_para_Concurso/blob/main/Untitled12.ipynb\" target=\"_parent\"><img src=\"https://colab.research.google.com/assets/colab-badge.svg\" alt=\"Open In Colab\"/></a>"
      ]
    },
    {
      "cell_type": "code",
      "execution_count": 3,
      "metadata": {
        "colab": {
          "base_uri": "https://localhost:8080/"
        },
        "id": "5HIb_4yhf0zY",
        "outputId": "78b42d5f-15af-4b4d-90d5-e600dc8978e5"
      },
      "outputs": [
        {
          "output_type": "stream",
          "name": "stdout",
          "text": [
            "A palavra secreta tem 3 letras\n",
            "A dica é -> desenvolver aplicativos para dispositivos móveis apple (iphone e ipad).\n",
            "O que você acha que é? R: lhlds\n",
            "Errou...\n",
            "Quer uma dica do Gemini? (s/n): n\n",
            "Ok, encerrando o jogo...\n",
            "A palavra secreta era -> ios\n"
          ]
        }
      ],
      "source": [
        "# Importa as bibliotecas necessárias\n",
        "import requests\n",
        "import random\n",
        "import google.generativeai as genai\n",
        "import textwrap\n",
        "from IPython.display import display\n",
        "from IPython.display import Markdown\n",
        "\n",
        "# Configura a API do Google Generative AI\n",
        "GOOGLE_API_KEY = 'SUA_CHAVE_API_AQUI'  # Substitua pela sua chave de API\n",
        "genai.configure(api_key=GOOGLE_API_KEY)\n",
        "\n",
        "# Função para formatar a saída como Markdown\n",
        "def to_markdown(text):\n",
        "    text = text.replace('•', '   *')\n",
        "    return Markdown(textwrap.indent(text, '> ', predicate=lambda _: True))\n",
        "\n",
        "# Obtém a lista de palavras do JSON\n",
        "url = 'https://raw.githubusercontent.com/guilhermeonrails/api-imersao-ia/main/words.json'\n",
        "resposta = requests.get(url)\n",
        "data = resposta.json()\n",
        "\n",
        "# Escolhe uma palavra secreta aleatória\n",
        "valor_secreto = random.choice(data)\n",
        "palavra_secreta = valor_secreto['palavra']\n",
        "dica = valor_secreto['dica']\n",
        "\n",
        "# Imprime informações sobre a palavra secreta\n",
        "print(f'A palavra secreta tem {len(palavra_secreta)} letras')\n",
        "print(f'A dica é -> {dica}')\n",
        "\n",
        "# Inicia o chat com o Gemini\n",
        "model = genai.GenerativeModel(model_name='gemini-1.0-pro')\n",
        "chat = model.start_chat(history=[])\n",
        "\n",
        "# Loop principal do jogo\n",
        "while True:\n",
        "    # Recebe o palpite do jogador\n",
        "    chute = input('O que você acha que é? R: ')\n",
        "\n",
        "    # Verifica se o palpite está correto\n",
        "    if chute == palavra_secreta:\n",
        "        print('Acertou!')\n",
        "        break\n",
        "    else:\n",
        "        print('Errou...')\n",
        "        quer_dica = input('Quer uma dica do Gemini? (s/n): ').lower()\n",
        "\n",
        "        if quer_dica == 's':\n",
        "            prompt = f\"Me dê uma dica adicional para a palavra '{palavra_secreta}', que se relaciona com '{dica}'.\"\n",
        "            response = chat.send_message(prompt)\n",
        "\n",
        "            # Imprime o histórico do chat\n",
        "            for message in chat.history:\n",
        "                display(to_markdown(f'**{message.role}**: {message.parts[0].text}'))\n",
        "                print('-------------------------------------------')\n",
        "\n",
        "        elif quer_dica == 'n':\n",
        "            print(\"Ok, encerrando o jogo...\")\n",
        "            break\n",
        "        else:\n",
        "            print(f'Continue tentando... A palavra secreta ainda tem {len(palavra_secreta)} letras')\n",
        "\n",
        "# Fim do jogo\n",
        "print(f'A palavra secreta era -> {palavra_secreta}')"
      ]
    }
  ]
}